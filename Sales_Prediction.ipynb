{
  "nbformat": 4,
  "nbformat_minor": 0,
  "metadata": {
    "colab": {
      "name": "Algoretail_Home_Task.ipynb",
      "provenance": []
    },
    "kernelspec": {
      "name": "python3",
      "display_name": "Python 3"
    },
    "language_info": {
      "name": "python"
    }
  },
  "cells": [
    {
      "cell_type": "markdown",
      "metadata": {
        "id": "ZQ6tH8HzR9Ro"
      },
      "source": [
        "Import data"
      ]
    },
    {
      "cell_type": "code",
      "metadata": {
        "colab": {
          "resources": {
            "http://localhost:8080/nbextensions/google.colab/files.js": {
              "data": "Ly8gQ29weXJpZ2h0IDIwMTcgR29vZ2xlIExMQwovLwovLyBMaWNlbnNlZCB1bmRlciB0aGUgQXBhY2hlIExpY2Vuc2UsIFZlcnNpb24gMi4wICh0aGUgIkxpY2Vuc2UiKTsKLy8geW91IG1heSBub3QgdXNlIHRoaXMgZmlsZSBleGNlcHQgaW4gY29tcGxpYW5jZSB3aXRoIHRoZSBMaWNlbnNlLgovLyBZb3UgbWF5IG9idGFpbiBhIGNvcHkgb2YgdGhlIExpY2Vuc2UgYXQKLy8KLy8gICAgICBodHRwOi8vd3d3LmFwYWNoZS5vcmcvbGljZW5zZXMvTElDRU5TRS0yLjAKLy8KLy8gVW5sZXNzIHJlcXVpcmVkIGJ5IGFwcGxpY2FibGUgbGF3IG9yIGFncmVlZCB0byBpbiB3cml0aW5nLCBzb2Z0d2FyZQovLyBkaXN0cmlidXRlZCB1bmRlciB0aGUgTGljZW5zZSBpcyBkaXN0cmlidXRlZCBvbiBhbiAiQVMgSVMiIEJBU0lTLAovLyBXSVRIT1VUIFdBUlJBTlRJRVMgT1IgQ09ORElUSU9OUyBPRiBBTlkgS0lORCwgZWl0aGVyIGV4cHJlc3Mgb3IgaW1wbGllZC4KLy8gU2VlIHRoZSBMaWNlbnNlIGZvciB0aGUgc3BlY2lmaWMgbGFuZ3VhZ2UgZ292ZXJuaW5nIHBlcm1pc3Npb25zIGFuZAovLyBsaW1pdGF0aW9ucyB1bmRlciB0aGUgTGljZW5zZS4KCi8qKgogKiBAZmlsZW92ZXJ2aWV3IEhlbHBlcnMgZm9yIGdvb2dsZS5jb2xhYiBQeXRob24gbW9kdWxlLgogKi8KKGZ1bmN0aW9uKHNjb3BlKSB7CmZ1bmN0aW9uIHNwYW4odGV4dCwgc3R5bGVBdHRyaWJ1dGVzID0ge30pIHsKICBjb25zdCBlbGVtZW50ID0gZG9jdW1lbnQuY3JlYXRlRWxlbWVudCgnc3BhbicpOwogIGVsZW1lbnQudGV4dENvbnRlbnQgPSB0ZXh0OwogIGZvciAoY29uc3Qga2V5IG9mIE9iamVjdC5rZXlzKHN0eWxlQXR0cmlidXRlcykpIHsKICAgIGVsZW1lbnQuc3R5bGVba2V5XSA9IHN0eWxlQXR0cmlidXRlc1trZXldOwogIH0KICByZXR1cm4gZWxlbWVudDsKfQoKLy8gTWF4IG51bWJlciBvZiBieXRlcyB3aGljaCB3aWxsIGJlIHVwbG9hZGVkIGF0IGEgdGltZS4KY29uc3QgTUFYX1BBWUxPQURfU0laRSA9IDEwMCAqIDEwMjQ7CgpmdW5jdGlvbiBfdXBsb2FkRmlsZXMoaW5wdXRJZCwgb3V0cHV0SWQpIHsKICBjb25zdCBzdGVwcyA9IHVwbG9hZEZpbGVzU3RlcChpbnB1dElkLCBvdXRwdXRJZCk7CiAgY29uc3Qgb3V0cHV0RWxlbWVudCA9IGRvY3VtZW50LmdldEVsZW1lbnRCeUlkKG91dHB1dElkKTsKICAvLyBDYWNoZSBzdGVwcyBvbiB0aGUgb3V0cHV0RWxlbWVudCB0byBtYWtlIGl0IGF2YWlsYWJsZSBmb3IgdGhlIG5leHQgY2FsbAogIC8vIHRvIHVwbG9hZEZpbGVzQ29udGludWUgZnJvbSBQeXRob24uCiAgb3V0cHV0RWxlbWVudC5zdGVwcyA9IHN0ZXBzOwoKICByZXR1cm4gX3VwbG9hZEZpbGVzQ29udGludWUob3V0cHV0SWQpOwp9CgovLyBUaGlzIGlzIHJvdWdobHkgYW4gYXN5bmMgZ2VuZXJhdG9yIChub3Qgc3VwcG9ydGVkIGluIHRoZSBicm93c2VyIHlldCksCi8vIHdoZXJlIHRoZXJlIGFyZSBtdWx0aXBsZSBhc3luY2hyb25vdXMgc3RlcHMgYW5kIHRoZSBQeXRob24gc2lkZSBpcyBnb2luZwovLyB0byBwb2xsIGZvciBjb21wbGV0aW9uIG9mIGVhY2ggc3RlcC4KLy8gVGhpcyB1c2VzIGEgUHJvbWlzZSB0byBibG9jayB0aGUgcHl0aG9uIHNpZGUgb24gY29tcGxldGlvbiBvZiBlYWNoIHN0ZXAsCi8vIHRoZW4gcGFzc2VzIHRoZSByZXN1bHQgb2YgdGhlIHByZXZpb3VzIHN0ZXAgYXMgdGhlIGlucHV0IHRvIHRoZSBuZXh0IHN0ZXAuCmZ1bmN0aW9uIF91cGxvYWRGaWxlc0NvbnRpbnVlKG91dHB1dElkKSB7CiAgY29uc3Qgb3V0cHV0RWxlbWVudCA9IGRvY3VtZW50LmdldEVsZW1lbnRCeUlkKG91dHB1dElkKTsKICBjb25zdCBzdGVwcyA9IG91dHB1dEVsZW1lbnQuc3RlcHM7CgogIGNvbnN0IG5leHQgPSBzdGVwcy5uZXh0KG91dHB1dEVsZW1lbnQubGFzdFByb21pc2VWYWx1ZSk7CiAgcmV0dXJuIFByb21pc2UucmVzb2x2ZShuZXh0LnZhbHVlLnByb21pc2UpLnRoZW4oKHZhbHVlKSA9PiB7CiAgICAvLyBDYWNoZSB0aGUgbGFzdCBwcm9taXNlIHZhbHVlIHRvIG1ha2UgaXQgYXZhaWxhYmxlIHRvIHRoZSBuZXh0CiAgICAvLyBzdGVwIG9mIHRoZSBnZW5lcmF0b3IuCiAgICBvdXRwdXRFbGVtZW50Lmxhc3RQcm9taXNlVmFsdWUgPSB2YWx1ZTsKICAgIHJldHVybiBuZXh0LnZhbHVlLnJlc3BvbnNlOwogIH0pOwp9CgovKioKICogR2VuZXJhdG9yIGZ1bmN0aW9uIHdoaWNoIGlzIGNhbGxlZCBiZXR3ZWVuIGVhY2ggYXN5bmMgc3RlcCBvZiB0aGUgdXBsb2FkCiAqIHByb2Nlc3MuCiAqIEBwYXJhbSB7c3RyaW5nfSBpbnB1dElkIEVsZW1lbnQgSUQgb2YgdGhlIGlucHV0IGZpbGUgcGlja2VyIGVsZW1lbnQuCiAqIEBwYXJhbSB7c3RyaW5nfSBvdXRwdXRJZCBFbGVtZW50IElEIG9mIHRoZSBvdXRwdXQgZGlzcGxheS4KICogQHJldHVybiB7IUl0ZXJhYmxlPCFPYmplY3Q+fSBJdGVyYWJsZSBvZiBuZXh0IHN0ZXBzLgogKi8KZnVuY3Rpb24qIHVwbG9hZEZpbGVzU3RlcChpbnB1dElkLCBvdXRwdXRJZCkgewogIGNvbnN0IGlucHV0RWxlbWVudCA9IGRvY3VtZW50LmdldEVsZW1lbnRCeUlkKGlucHV0SWQpOwogIGlucHV0RWxlbWVudC5kaXNhYmxlZCA9IGZhbHNlOwoKICBjb25zdCBvdXRwdXRFbGVtZW50ID0gZG9jdW1lbnQuZ2V0RWxlbWVudEJ5SWQob3V0cHV0SWQpOwogIG91dHB1dEVsZW1lbnQuaW5uZXJIVE1MID0gJyc7CgogIGNvbnN0IHBpY2tlZFByb21pc2UgPSBuZXcgUHJvbWlzZSgocmVzb2x2ZSkgPT4gewogICAgaW5wdXRFbGVtZW50LmFkZEV2ZW50TGlzdGVuZXIoJ2NoYW5nZScsIChlKSA9PiB7CiAgICAgIHJlc29sdmUoZS50YXJnZXQuZmlsZXMpOwogICAgfSk7CiAgfSk7CgogIGNvbnN0IGNhbmNlbCA9IGRvY3VtZW50LmNyZWF0ZUVsZW1lbnQoJ2J1dHRvbicpOwogIGlucHV0RWxlbWVudC5wYXJlbnRFbGVtZW50LmFwcGVuZENoaWxkKGNhbmNlbCk7CiAgY2FuY2VsLnRleHRDb250ZW50ID0gJ0NhbmNlbCB1cGxvYWQnOwogIGNvbnN0IGNhbmNlbFByb21pc2UgPSBuZXcgUHJvbWlzZSgocmVzb2x2ZSkgPT4gewogICAgY2FuY2VsLm9uY2xpY2sgPSAoKSA9PiB7CiAgICAgIHJlc29sdmUobnVsbCk7CiAgICB9OwogIH0pOwoKICAvLyBXYWl0IGZvciB0aGUgdXNlciB0byBwaWNrIHRoZSBmaWxlcy4KICBjb25zdCBmaWxlcyA9IHlpZWxkIHsKICAgIHByb21pc2U6IFByb21pc2UucmFjZShbcGlja2VkUHJvbWlzZSwgY2FuY2VsUHJvbWlzZV0pLAogICAgcmVzcG9uc2U6IHsKICAgICAgYWN0aW9uOiAnc3RhcnRpbmcnLAogICAgfQogIH07CgogIGNhbmNlbC5yZW1vdmUoKTsKCiAgLy8gRGlzYWJsZSB0aGUgaW5wdXQgZWxlbWVudCBzaW5jZSBmdXJ0aGVyIHBpY2tzIGFyZSBub3QgYWxsb3dlZC4KICBpbnB1dEVsZW1lbnQuZGlzYWJsZWQgPSB0cnVlOwoKICBpZiAoIWZpbGVzKSB7CiAgICByZXR1cm4gewogICAgICByZXNwb25zZTogewogICAgICAgIGFjdGlvbjogJ2NvbXBsZXRlJywKICAgICAgfQogICAgfTsKICB9CgogIGZvciAoY29uc3QgZmlsZSBvZiBmaWxlcykgewogICAgY29uc3QgbGkgPSBkb2N1bWVudC5jcmVhdGVFbGVtZW50KCdsaScpOwogICAgbGkuYXBwZW5kKHNwYW4oZmlsZS5uYW1lLCB7Zm9udFdlaWdodDogJ2JvbGQnfSkpOwogICAgbGkuYXBwZW5kKHNwYW4oCiAgICAgICAgYCgke2ZpbGUudHlwZSB8fCAnbi9hJ30pIC0gJHtmaWxlLnNpemV9IGJ5dGVzLCBgICsKICAgICAgICBgbGFzdCBtb2RpZmllZDogJHsKICAgICAgICAgICAgZmlsZS5sYXN0TW9kaWZpZWREYXRlID8gZmlsZS5sYXN0TW9kaWZpZWREYXRlLnRvTG9jYWxlRGF0ZVN0cmluZygpIDoKICAgICAgICAgICAgICAgICAgICAgICAgICAgICAgICAgICAgJ24vYSd9IC0gYCkpOwogICAgY29uc3QgcGVyY2VudCA9IHNwYW4oJzAlIGRvbmUnKTsKICAgIGxpLmFwcGVuZENoaWxkKHBlcmNlbnQpOwoKICAgIG91dHB1dEVsZW1lbnQuYXBwZW5kQ2hpbGQobGkpOwoKICAgIGNvbnN0IGZpbGVEYXRhUHJvbWlzZSA9IG5ldyBQcm9taXNlKChyZXNvbHZlKSA9PiB7CiAgICAgIGNvbnN0IHJlYWRlciA9IG5ldyBGaWxlUmVhZGVyKCk7CiAgICAgIHJlYWRlci5vbmxvYWQgPSAoZSkgPT4gewogICAgICAgIHJlc29sdmUoZS50YXJnZXQucmVzdWx0KTsKICAgICAgfTsKICAgICAgcmVhZGVyLnJlYWRBc0FycmF5QnVmZmVyKGZpbGUpOwogICAgfSk7CiAgICAvLyBXYWl0IGZvciB0aGUgZGF0YSB0byBiZSByZWFkeS4KICAgIGxldCBmaWxlRGF0YSA9IHlpZWxkIHsKICAgICAgcHJvbWlzZTogZmlsZURhdGFQcm9taXNlLAogICAgICByZXNwb25zZTogewogICAgICAgIGFjdGlvbjogJ2NvbnRpbnVlJywKICAgICAgfQogICAgfTsKCiAgICAvLyBVc2UgYSBjaHVua2VkIHNlbmRpbmcgdG8gYXZvaWQgbWVzc2FnZSBzaXplIGxpbWl0cy4gU2VlIGIvNjIxMTU2NjAuCiAgICBsZXQgcG9zaXRpb24gPSAwOwogICAgZG8gewogICAgICBjb25zdCBsZW5ndGggPSBNYXRoLm1pbihmaWxlRGF0YS5ieXRlTGVuZ3RoIC0gcG9zaXRpb24sIE1BWF9QQVlMT0FEX1NJWkUpOwogICAgICBjb25zdCBjaHVuayA9IG5ldyBVaW50OEFycmF5KGZpbGVEYXRhLCBwb3NpdGlvbiwgbGVuZ3RoKTsKICAgICAgcG9zaXRpb24gKz0gbGVuZ3RoOwoKICAgICAgY29uc3QgYmFzZTY0ID0gYnRvYShTdHJpbmcuZnJvbUNoYXJDb2RlLmFwcGx5KG51bGwsIGNodW5rKSk7CiAgICAgIHlpZWxkIHsKICAgICAgICByZXNwb25zZTogewogICAgICAgICAgYWN0aW9uOiAnYXBwZW5kJywKICAgICAgICAgIGZpbGU6IGZpbGUubmFtZSwKICAgICAgICAgIGRhdGE6IGJhc2U2NCwKICAgICAgICB9LAogICAgICB9OwoKICAgICAgbGV0IHBlcmNlbnREb25lID0gZmlsZURhdGEuYnl0ZUxlbmd0aCA9PT0gMCA/CiAgICAgICAgICAxMDAgOgogICAgICAgICAgTWF0aC5yb3VuZCgocG9zaXRpb24gLyBmaWxlRGF0YS5ieXRlTGVuZ3RoKSAqIDEwMCk7CiAgICAgIHBlcmNlbnQudGV4dENvbnRlbnQgPSBgJHtwZXJjZW50RG9uZX0lIGRvbmVgOwoKICAgIH0gd2hpbGUgKHBvc2l0aW9uIDwgZmlsZURhdGEuYnl0ZUxlbmd0aCk7CiAgfQoKICAvLyBBbGwgZG9uZS4KICB5aWVsZCB7CiAgICByZXNwb25zZTogewogICAgICBhY3Rpb246ICdjb21wbGV0ZScsCiAgICB9CiAgfTsKfQoKc2NvcGUuZ29vZ2xlID0gc2NvcGUuZ29vZ2xlIHx8IHt9OwpzY29wZS5nb29nbGUuY29sYWIgPSBzY29wZS5nb29nbGUuY29sYWIgfHwge307CnNjb3BlLmdvb2dsZS5jb2xhYi5fZmlsZXMgPSB7CiAgX3VwbG9hZEZpbGVzLAogIF91cGxvYWRGaWxlc0NvbnRpbnVlLAp9Owp9KShzZWxmKTsK",
              "ok": true,
              "headers": [
                [
                  "content-type",
                  "application/javascript"
                ]
              ],
              "status": 200,
              "status_text": "OK"
            }
          },
          "base_uri": "https://localhost:8080/",
          "height": 74
        },
        "id": "0mBCbkJ510Qt",
        "outputId": "0cee5114-5b3f-4c95-8ba8-ea15fa021f77"
      },
      "source": [
        "import pandas as pd\n",
        "import numpy as np\n",
        "from google.colab import files\n",
        "uploaded = files.upload()"
      ],
      "execution_count": null,
      "outputs": [
        {
          "output_type": "display_data",
          "data": {
            "text/html": [
              "\n",
              "     <input type=\"file\" id=\"files-615d6916-3bab-43cd-bc84-e7eacc804e07\" name=\"files[]\" multiple disabled\n",
              "        style=\"border:none\" />\n",
              "     <output id=\"result-615d6916-3bab-43cd-bc84-e7eacc804e07\">\n",
              "      Upload widget is only available when the cell has been executed in the\n",
              "      current browser session. Please rerun this cell to enable.\n",
              "      </output>\n",
              "      <script src=\"/nbextensions/google.colab/files.js\"></script> "
            ],
            "text/plain": [
              "<IPython.core.display.HTML object>"
            ]
          },
          "metadata": {}
        },
        {
          "output_type": "stream",
          "name": "stdout",
          "text": [
            "Saving sales.csv to sales (3).csv\n"
          ]
        }
      ]
    },
    {
      "cell_type": "code",
      "metadata": {
        "id": "6g0nsfT8XtAm"
      },
      "source": [
        "import io\n",
        "df = pd.read_csv(io.BytesIO(uploaded['sales.csv']))\n",
        "# Dataset is now stored in a Pandas Dataframe"
      ],
      "execution_count": null,
      "outputs": []
    },
    {
      "cell_type": "code",
      "metadata": {
        "id": "KLOn3PTNnt97"
      },
      "source": [
        "import matplotlib.pyplot as plt\n",
        "import seaborn as sns\n",
        "from keras.layers import Dense\n",
        "from keras.models import Sequential\n",
        "from keras.layers import LSTM\n",
        "from keras.utils import np_utils\n",
        "# Importing required packages"
      ],
      "execution_count": null,
      "outputs": []
    },
    {
      "cell_type": "markdown",
      "metadata": {
        "id": "DaBGsUXUYtC-"
      },
      "source": [
        "A short EDA"
      ]
    },
    {
      "cell_type": "code",
      "metadata": {
        "colab": {
          "base_uri": "https://localhost:8080/"
        },
        "id": "qpVg_fduX5kf",
        "outputId": "6cfbf6c7-9a41-46a8-d669-18c3e15588cd"
      },
      "source": [
        "print (df.head())\n",
        "print (df.describe())\n",
        "print (df.info())\n",
        "# General impression of the data\n"
      ],
      "execution_count": null,
      "outputs": [
        {
          "output_type": "stream",
          "name": "stdout",
          "text": [
            "         date  barcode     buy      sale   stock  price\n",
            "0  01/01/2017      1.0     NaN   316.669 -318.46   5.90\n",
            "1  02/01/2017      1.0     NaN   357.692 -677.43   5.90\n",
            "2  03/01/2017      1.0   609.0   800.131 -870.30   4.33\n",
            "3  04/01/2017      1.0  1458.0   917.331 -330.65   5.90\n",
            "4  05/01/2017      1.0  1335.0  1095.586  -92.42   5.90\n",
            "           barcode           buy         sale         stock        price\n",
            "count  4597.000000   2288.000000  4142.000000   4596.000000  4142.000000\n",
            "mean      1.975419    825.887128   494.700095   -153.344186     6.002549\n",
            "std       0.821574    841.719785   456.066079  14115.290532     1.471375\n",
            "min       1.000000      0.000000     1.000000 -62687.040000     1.900000\n",
            "25%       1.000000    320.000000    11.000000   -570.717500     5.080000\n",
            "50%       2.000000    720.000000   447.000000     92.000000     5.900000\n",
            "75%       3.000000   1107.500000   800.155000    868.535000     6.900000\n",
            "max       3.000000  14490.490000  2193.690000  82551.940000     9.900000\n",
            "<class 'pandas.core.frame.DataFrame'>\n",
            "RangeIndex: 4603 entries, 0 to 4602\n",
            "Data columns (total 6 columns):\n",
            " #   Column   Non-Null Count  Dtype  \n",
            "---  ------   --------------  -----  \n",
            " 0   date     4602 non-null   object \n",
            " 1   barcode  4597 non-null   float64\n",
            " 2   buy      2288 non-null   float64\n",
            " 3   sale     4142 non-null   float64\n",
            " 4   stock    4596 non-null   float64\n",
            " 5   price    4142 non-null   float64\n",
            "dtypes: float64(5), object(1)\n",
            "memory usage: 215.9+ KB\n",
            "None\n"
          ]
        }
      ]
    },
    {
      "cell_type": "markdown",
      "metadata": {
        "id": "EguvcxCKZKyx"
      },
      "source": [
        "Distributions of the 3 barcodes data subsets"
      ]
    },
    {
      "cell_type": "code",
      "metadata": {
        "colab": {
          "base_uri": "https://localhost:8080/",
          "height": 390
        },
        "id": "JHP9_yyeKUaU",
        "outputId": "c14a7618-b789-4542-f734-afa30fa55196"
      },
      "source": [
        "sns.distplot(df.sale[df.barcode==1])"
      ],
      "execution_count": null,
      "outputs": [
        {
          "output_type": "stream",
          "name": "stderr",
          "text": [
            "/usr/local/lib/python3.7/dist-packages/seaborn/distributions.py:2619: FutureWarning:\n",
            "\n",
            "`distplot` is a deprecated function and will be removed in a future version. Please adapt your code to use either `displot` (a figure-level function with similar flexibility) or `histplot` (an axes-level function for histograms).\n",
            "\n"
          ]
        },
        {
          "output_type": "execute_result",
          "data": {
            "text/plain": [
              "<matplotlib.axes._subplots.AxesSubplot at 0x7f35c5f5fe50>"
            ]
          },
          "metadata": {},
          "execution_count": 260
        },
        {
          "output_type": "display_data",
          "data": {
            "image/png": "[encoded data removed]",
            "text/plain": [
              "<Figure size 432x288 with 1 Axes>"
            ]
          },
          "metadata": {
            "needs_background": "light"
          }
        }
      ]
    },
    {
      "cell_type": "code",
      "metadata": {
        "colab": {
          "base_uri": "https://localhost:8080/",
          "height": 390
        },
        "id": "QZRw5copKe1X",
        "outputId": "2c7bf534-98b9-4a23-d4ee-9eb87e150792"
      },
      "source": [
        "sns.distplot(df.sale[df.barcode==2])"
      ],
      "execution_count": null,
      "outputs": [
        {
          "output_type": "stream",
          "name": "stderr",
          "text": [
            "/usr/local/lib/python3.7/dist-packages/seaborn/distributions.py:2619: FutureWarning:\n",
            "\n",
            "`distplot` is a deprecated function and will be removed in a future version. Please adapt your code to use either `displot` (a figure-level function with similar flexibility) or `histplot` (an axes-level function for histograms).\n",
            "\n"
          ]
        },
        {
          "output_type": "execute_result",
          "data": {
            "text/plain": [
              "<matplotlib.axes._subplots.AxesSubplot at 0x7f35cd4fc210>"
            ]
          },
          "metadata": {},
          "execution_count": 261
        },
        {
          "output_type": "display_data",
          "data": {
            "image/png": "[encoded data removed]",
            "text/plain": [
              "<Figure size 432x288 with 1 Axes>"
            ]
          },
          "metadata": {
            "needs_background": "light"
          }
        }
      ]
    },
    {
      "cell_type": "code",
      "metadata": {
        "colab": {
          "base_uri": "https://localhost:8080/",
          "height": 390
        },
        "id": "NvnY03bnKg14",
        "outputId": "8019fcde-5d63-4734-ebe6-0e79eac7d415"
      },
      "source": [
        "sns.distplot(df.sale[df.barcode==3])"
      ],
      "execution_count": null,
      "outputs": [
        {
          "output_type": "stream",
          "name": "stderr",
          "text": [
            "/usr/local/lib/python3.7/dist-packages/seaborn/distributions.py:2619: FutureWarning:\n",
            "\n",
            "`distplot` is a deprecated function and will be removed in a future version. Please adapt your code to use either `displot` (a figure-level function with similar flexibility) or `histplot` (an axes-level function for histograms).\n",
            "\n"
          ]
        },
        {
          "output_type": "execute_result",
          "data": {
            "text/plain": [
              "<matplotlib.axes._subplots.AxesSubplot at 0x7f35c5b8c850>"
            ]
          },
          "metadata": {},
          "execution_count": 262
        },
        {
          "output_type": "display_data",
          "data": {
            "image/png": "[encoded data removed]",
            "text/plain": [
              "<Figure size 432x288 with 1 Axes>"
            ]
          },
          "metadata": {
            "needs_background": "light"
          }
        }
      ]
    },
    {
      "cell_type": "code",
      "metadata": {
        "colab": {
          "base_uri": "https://localhost:8080/",
          "height": 297
        },
        "id": "EpJn9R2rKwhE",
        "outputId": "d21bb3c6-4e0f-4441-d887-3eb6dc5922f9"
      },
      "source": [
        "sns.boxplot(x=\"barcode\", y=\"sale\", data=df)\n",
        "# The presence of outliers was detected"
      ],
      "execution_count": null,
      "outputs": [
        {
          "output_type": "execute_result",
          "data": {
            "text/plain": [
              "<matplotlib.axes._subplots.AxesSubplot at 0x7f35c60e5050>"
            ]
          },
          "metadata": {},
          "execution_count": 263
        },
        {
          "output_type": "display_data",
          "data": {
            "image/png": "[encoded data removed]",
            "text/plain": [
              "<Figure size 432x288 with 1 Axes>"
            ]
          },
          "metadata": {
            "needs_background": "light"
          }
        }
      ]
    },
    {
      "cell_type": "code",
      "metadata": {
        "colab": {
          "base_uri": "https://localhost:8080/"
        },
        "id": "xMNxBwJOnO4y",
        "outputId": "d1beb8ca-2f05-48c6-e89e-a1b7fe31ffc0"
      },
      "source": [
        "def sales_duration(data):  # Checking for duration of data collection\n",
        "    data.date = pd.to_datetime(data.date)\n",
        "    number_of_days = data.date.max() - data.date.min()\n",
        "    number_of_years = number_of_days.days / 365\n",
        "    print(number_of_days.days, 'days')\n",
        "    print(number_of_years, 'years')\n",
        "    \n",
        "sales_duration(df)"
      ],
      "execution_count": null,
      "outputs": [
        {
          "output_type": "stream",
          "name": "stdout",
          "text": [
            "1801 days\n",
            "4.934246575342466 years\n"
          ]
        }
      ]
    },
    {
      "cell_type": "code",
      "metadata": {
        "colab": {
          "base_uri": "https://localhost:8080/",
          "height": 295
        },
        "id": "Q46umLg7nlFq",
        "outputId": "6a4839d0-20e5-4d82-cff6-164dcb9e4a70"
      },
      "source": [
        "def sales_per_day(): # Checking where the bulk of the data lies\n",
        "    fig, ax = plt.subplots(figsize=(7,4))\n",
        "    plt.hist(df.sale, color='mediumblue')\n",
        "    \n",
        "    ax.set(xlabel = \"Sales Per day\",\n",
        "           ylabel = \"Count\",\n",
        "           title = \"Distrobution of Sales Per Day\")\n",
        "    \n",
        "sales_per_day()"
      ],
      "execution_count": null,
      "outputs": [
        {
          "output_type": "display_data",
          "data": {
            "image/png": "[encoded data removed]",
            "text/plain": [
              "<Figure size 504x288 with 1 Axes>"
            ]
          },
          "metadata": {
            "needs_background": "light"
          }
        }
      ]
    },
    {
      "cell_type": "code",
      "metadata": {
        "colab": {
          "base_uri": "https://localhost:8080/",
          "height": 388
        },
        "id": "0UTu5wczoU0B",
        "outputId": "30c790f6-3848-42da-c72a-92c4bf52a1e1"
      },
      "source": [
        "def sales_per_barcode():  # The barcodes data subsets are not equal in size\n",
        "    by_store = df.groupby('barcode')['sale'].sum().reset_index()\n",
        "    \n",
        "    fig, ax = plt.subplots(figsize=(7,4))\n",
        "    sns.barplot(by_store.barcode, by_store.sale, color='mediumblue')\n",
        "    \n",
        "    ax.set(xlabel = \"Barcode\",\n",
        "           ylabel = \"Number of Sales\",\n",
        "           title = \"Total Sales Per Barcode\")\n",
        "    \n",
        "    sns.despine()\n",
        "    \n",
        "sales_per_barcode()"
      ],
      "execution_count": null,
      "outputs": [
        {
          "output_type": "stream",
          "name": "stderr",
          "text": [
            "/usr/local/lib/python3.7/dist-packages/seaborn/_decorators.py:43: FutureWarning:\n",
            "\n",
            "Pass the following variables as keyword args: x, y. From version 0.12, the only valid positional argument will be `data`, and passing other arguments without an explicit keyword will result in an error or misinterpretation.\n",
            "\n"
          ]
        },
        {
          "output_type": "display_data",
          "data": {
            "image/png": "[encoded data removed]",
            "text/plain": [
              "<Figure size 504x288 with 1 Axes>"
            ]
          },
          "metadata": {
            "needs_background": "light"
          }
        }
      ]
    },
    {
      "cell_type": "markdown",
      "metadata": {
        "id": "kqo0JNbJZEE6"
      },
      "source": [
        "Cleaning the data of outliers in barcodes 2 & 3"
      ]
    },
    {
      "cell_type": "code",
      "metadata": {
        "colab": {
          "base_uri": "https://localhost:8080/"
        },
        "id": "F0CzJ1s-LtEA",
        "outputId": "11c50de5-2045-445e-f0e1-fbc1232e4c9f"
      },
      "source": [
        "Q1 = df.sale[df.barcode==3].quantile(0.25)\n",
        "Q3 = df.sale[df.barcode==3].quantile(0.75)\n",
        "IQR = Q3 - Q1    #IQR is interquartile range. \n",
        "\n",
        "filter = (df.sale[df.barcode==3] >= Q1 - 1.5 * IQR) & (df.sale[df.barcode==3] <= Q3 + 1.5 *IQR)\n",
        "filt = df.sale[(df.barcode==3) & ~filter].index.values\n",
        "print (len(df.sale[(df.barcode==3) & ~filter]), len(df.sale[df.barcode==3]))\n",
        "print (Q1, Q3)\n",
        "print (Q3 + 1.5 *IQR)\n",
        "df=df.drop(index=filt)"
      ],
      "execution_count": null,
      "outputs": [
        {
          "output_type": "stream",
          "name": "stdout",
          "text": [
            "245 1496\n",
            "3.0 10.0\n",
            "20.5\n"
          ]
        }
      ]
    },
    {
      "cell_type": "code",
      "metadata": {
        "id": "AeTEuE6_M9q5"
      },
      "source": [
        "Q1 = df.sale[df.barcode==2].quantile(0.25)\n",
        "Q3 = df.sale[df.barcode==2].quantile(0.75)\n",
        "IQR = Q3 - Q1    #IQR is interquartile range. \n",
        "\n",
        "filter = (df.sale[df.barcode==2] >= Q1 - 1.5 * IQR) & (df.sale[df.barcode==2] <= Q3 + 1.5 *IQR)\n",
        "filt = df.sale[(df.barcode==2) & ~filter].index.values\n",
        "df=df.drop(index=filt)"
      ],
      "execution_count": null,
      "outputs": []
    },
    {
      "cell_type": "code",
      "metadata": {
        "colab": {
          "base_uri": "https://localhost:8080/"
        },
        "id": "S-v4NpeyJZ10",
        "outputId": "d9ab0ed1-5b41-44b2-b1c3-0c3467986ca3"
      },
      "source": [
        "print (df[[\"sale\", \"barcode\"]].groupby(\"barcode\").quantile(0.95))\n",
        "print (df[[\"sale\", \"barcode\"]].groupby(\"barcode\").quantile(1.00))"
      ],
      "execution_count": null,
      "outputs": [
        {
          "output_type": "stream",
          "name": "stdout",
          "text": [
            "              sale\n",
            "barcode           \n",
            "1.0      1555.7335\n",
            "2.0       938.4000\n",
            "3.0        15.0000\n",
            "            sale\n",
            "barcode         \n",
            "1.0      2193.69\n",
            "2.0      1229.00\n",
            "3.0        20.00\n"
          ]
        }
      ]
    },
    {
      "cell_type": "code",
      "metadata": {
        "id": "ph28Seho9Vu-"
      },
      "source": [
        "df.drop([374], axis=0, inplace=True) #Dropping completely blank row\n"
      ],
      "execution_count": null,
      "outputs": []
    },
    {
      "cell_type": "code",
      "metadata": {
        "id": "ydzWyimR9b5F"
      },
      "source": [
        "df[['buy', 'sale', 'stock']] = df[['buy', 'sale', 'stock']].fillna(value=0)\n",
        "df[['barcode']] = df[['barcode']].fillna(method=\"ffill\")\n",
        "df[['price']] = df[['price']].fillna(value=df.mean())\n",
        "# Filling missing values"
      ],
      "execution_count": null,
      "outputs": []
    },
    {
      "cell_type": "markdown",
      "metadata": {
        "id": "yTmO01LXGySA"
      },
      "source": [
        "Preparation of the data - choosing of the last 10 days as a base for prediction"
      ]
    },
    {
      "cell_type": "code",
      "metadata": {
        "colab": {
          "base_uri": "https://localhost:8080/",
          "height": 424
        },
        "id": "IpClo5MKz-ud",
        "outputId": "6ea00990-0812-4904-d30d-d3df9ef99d43"
      },
      "source": [
        "df[[\"sale\"]]"
      ],
      "execution_count": null,
      "outputs": [
        {
          "output_type": "execute_result",
          "data": {
            "text/html": [
              "<div>\n",
              "<style scoped>\n",
              "    .dataframe tbody tr th:only-of-type {\n",
              "        vertical-align: middle;\n",
              "    }\n",
              "\n",
              "    .dataframe tbody tr th {\n",
              "        vertical-align: top;\n",
              "    }\n",
              "\n",
              "    .dataframe thead th {\n",
              "        text-align: right;\n",
              "    }\n",
              "</style>\n",
              "<table border=\"1\" class=\"dataframe\">\n",
              "  <thead>\n",
              "    <tr style=\"text-align: right;\">\n",
              "      <th></th>\n",
              "      <th>sale</th>\n",
              "    </tr>\n",
              "  </thead>\n",
              "  <tbody>\n",
              "    <tr>\n",
              "      <th>0</th>\n",
              "      <td>316.669</td>\n",
              "    </tr>\n",
              "    <tr>\n",
              "      <th>1</th>\n",
              "      <td>357.692</td>\n",
              "    </tr>\n",
              "    <tr>\n",
              "      <th>2</th>\n",
              "      <td>800.131</td>\n",
              "    </tr>\n",
              "    <tr>\n",
              "      <th>3</th>\n",
              "      <td>917.331</td>\n",
              "    </tr>\n",
              "    <tr>\n",
              "      <th>4</th>\n",
              "      <td>1095.586</td>\n",
              "    </tr>\n",
              "    <tr>\n",
              "      <th>...</th>\n",
              "      <td>...</td>\n",
              "    </tr>\n",
              "    <tr>\n",
              "      <th>4594</th>\n",
              "      <td>3.000</td>\n",
              "    </tr>\n",
              "    <tr>\n",
              "      <th>4595</th>\n",
              "      <td>1.000</td>\n",
              "    </tr>\n",
              "    <tr>\n",
              "      <th>4596</th>\n",
              "      <td>9.000</td>\n",
              "    </tr>\n",
              "    <tr>\n",
              "      <th>4597</th>\n",
              "      <td>9.000</td>\n",
              "    </tr>\n",
              "    <tr>\n",
              "      <th>4598</th>\n",
              "      <td>2.000</td>\n",
              "    </tr>\n",
              "  </tbody>\n",
              "</table>\n",
              "<p>4270 rows × 1 columns</p>\n",
              "</div>"
            ],
            "text/plain": [
              "          sale\n",
              "0      316.669\n",
              "1      357.692\n",
              "2      800.131\n",
              "3      917.331\n",
              "4     1095.586\n",
              "...        ...\n",
              "4594     3.000\n",
              "4595     1.000\n",
              "4596     9.000\n",
              "4597     9.000\n",
              "4598     2.000\n",
              "\n",
              "[4270 rows x 1 columns]"
            ]
          },
          "metadata": {},
          "execution_count": 273
        }
      ]
    },
    {
      "cell_type": "code",
      "metadata": {
        "id": "wiBt0UqcG1ov"
      },
      "source": [
        "#create dataframe for transformation from time series to supervised\n",
        "def prepare_for_lstm(data):\n",
        "  #adding lags\n",
        "  for i in range(1,11):\n",
        "      col = 'prev_' + str(i)\n",
        "      data[col] = data['sale'].shift(i) #drop null values\n",
        "      #drop null values\n",
        "  data = data.dropna()\n",
        "  return data"
      ],
      "execution_count": null,
      "outputs": []
    },
    {
      "cell_type": "code",
      "metadata": {
        "colab": {
          "base_uri": "https://localhost:8080/",
          "height": 363
        },
        "id": "hkhXamQR2N5D",
        "outputId": "5211df55-123a-4d2b-d774-11633f135c21"
      },
      "source": [
        "df_barcode1 = prepare_for_lstm(df[[\"sale\"]][df.barcode==1])\n",
        "df_barcode2 = prepare_for_lstm(df[[\"sale\"]][df.barcode==2])\n",
        "df_barcode3 = prepare_for_lstm(df[[\"sale\"]][df.barcode==3])\n",
        "\n",
        "df_barcode3.head(10)"
      ],
      "execution_count": null,
      "outputs": [
        {
          "output_type": "execute_result",
          "data": {
            "text/html": [
              "<div>\n",
              "<style scoped>\n",
              "    .dataframe tbody tr th:only-of-type {\n",
              "        vertical-align: middle;\n",
              "    }\n",
              "\n",
              "    .dataframe tbody tr th {\n",
              "        vertical-align: top;\n",
              "    }\n",
              "\n",
              "    .dataframe thead th {\n",
              "        text-align: right;\n",
              "    }\n",
              "</style>\n",
              "<table border=\"1\" class=\"dataframe\">\n",
              "  <thead>\n",
              "    <tr style=\"text-align: right;\">\n",
              "      <th></th>\n",
              "      <th>sale</th>\n",
              "      <th>prev_1</th>\n",
              "      <th>prev_2</th>\n",
              "      <th>prev_3</th>\n",
              "      <th>prev_4</th>\n",
              "      <th>prev_5</th>\n",
              "      <th>prev_6</th>\n",
              "      <th>prev_7</th>\n",
              "      <th>prev_8</th>\n",
              "      <th>prev_9</th>\n",
              "      <th>prev_10</th>\n",
              "    </tr>\n",
              "  </thead>\n",
              "  <tbody>\n",
              "    <tr>\n",
              "      <th>3118</th>\n",
              "      <td>4.0</td>\n",
              "      <td>8.0</td>\n",
              "      <td>6.0</td>\n",
              "      <td>1.0</td>\n",
              "      <td>6.0</td>\n",
              "      <td>5.0</td>\n",
              "      <td>10.0</td>\n",
              "      <td>2.0</td>\n",
              "      <td>4.0</td>\n",
              "      <td>1.0</td>\n",
              "      <td>2.0</td>\n",
              "    </tr>\n",
              "    <tr>\n",
              "      <th>3119</th>\n",
              "      <td>6.0</td>\n",
              "      <td>4.0</td>\n",
              "      <td>8.0</td>\n",
              "      <td>6.0</td>\n",
              "      <td>1.0</td>\n",
              "      <td>6.0</td>\n",
              "      <td>5.0</td>\n",
              "      <td>10.0</td>\n",
              "      <td>2.0</td>\n",
              "      <td>4.0</td>\n",
              "      <td>1.0</td>\n",
              "    </tr>\n",
              "    <tr>\n",
              "      <th>3121</th>\n",
              "      <td>5.0</td>\n",
              "      <td>6.0</td>\n",
              "      <td>4.0</td>\n",
              "      <td>8.0</td>\n",
              "      <td>6.0</td>\n",
              "      <td>1.0</td>\n",
              "      <td>6.0</td>\n",
              "      <td>5.0</td>\n",
              "      <td>10.0</td>\n",
              "      <td>2.0</td>\n",
              "      <td>4.0</td>\n",
              "    </tr>\n",
              "    <tr>\n",
              "      <th>3122</th>\n",
              "      <td>1.0</td>\n",
              "      <td>5.0</td>\n",
              "      <td>6.0</td>\n",
              "      <td>4.0</td>\n",
              "      <td>8.0</td>\n",
              "      <td>6.0</td>\n",
              "      <td>1.0</td>\n",
              "      <td>6.0</td>\n",
              "      <td>5.0</td>\n",
              "      <td>10.0</td>\n",
              "      <td>2.0</td>\n",
              "    </tr>\n",
              "    <tr>\n",
              "      <th>3124</th>\n",
              "      <td>2.0</td>\n",
              "      <td>1.0</td>\n",
              "      <td>5.0</td>\n",
              "      <td>6.0</td>\n",
              "      <td>4.0</td>\n",
              "      <td>8.0</td>\n",
              "      <td>6.0</td>\n",
              "      <td>1.0</td>\n",
              "      <td>6.0</td>\n",
              "      <td>5.0</td>\n",
              "      <td>10.0</td>\n",
              "    </tr>\n",
              "    <tr>\n",
              "      <th>3125</th>\n",
              "      <td>10.0</td>\n",
              "      <td>2.0</td>\n",
              "      <td>1.0</td>\n",
              "      <td>5.0</td>\n",
              "      <td>6.0</td>\n",
              "      <td>4.0</td>\n",
              "      <td>8.0</td>\n",
              "      <td>6.0</td>\n",
              "      <td>1.0</td>\n",
              "      <td>6.0</td>\n",
              "      <td>5.0</td>\n",
              "    </tr>\n",
              "    <tr>\n",
              "      <th>3126</th>\n",
              "      <td>2.0</td>\n",
              "      <td>10.0</td>\n",
              "      <td>2.0</td>\n",
              "      <td>1.0</td>\n",
              "      <td>5.0</td>\n",
              "      <td>6.0</td>\n",
              "      <td>4.0</td>\n",
              "      <td>8.0</td>\n",
              "      <td>6.0</td>\n",
              "      <td>1.0</td>\n",
              "      <td>6.0</td>\n",
              "    </tr>\n",
              "    <tr>\n",
              "      <th>3130</th>\n",
              "      <td>4.0</td>\n",
              "      <td>2.0</td>\n",
              "      <td>10.0</td>\n",
              "      <td>2.0</td>\n",
              "      <td>1.0</td>\n",
              "      <td>5.0</td>\n",
              "      <td>6.0</td>\n",
              "      <td>4.0</td>\n",
              "      <td>8.0</td>\n",
              "      <td>6.0</td>\n",
              "      <td>1.0</td>\n",
              "    </tr>\n",
              "    <tr>\n",
              "      <th>3131</th>\n",
              "      <td>1.0</td>\n",
              "      <td>4.0</td>\n",
              "      <td>2.0</td>\n",
              "      <td>10.0</td>\n",
              "      <td>2.0</td>\n",
              "      <td>1.0</td>\n",
              "      <td>5.0</td>\n",
              "      <td>6.0</td>\n",
              "      <td>4.0</td>\n",
              "      <td>8.0</td>\n",
              "      <td>6.0</td>\n",
              "    </tr>\n",
              "    <tr>\n",
              "      <th>3132</th>\n",
              "      <td>3.0</td>\n",
              "      <td>1.0</td>\n",
              "      <td>4.0</td>\n",
              "      <td>2.0</td>\n",
              "      <td>10.0</td>\n",
              "      <td>2.0</td>\n",
              "      <td>1.0</td>\n",
              "      <td>5.0</td>\n",
              "      <td>6.0</td>\n",
              "      <td>4.0</td>\n",
              "      <td>8.0</td>\n",
              "    </tr>\n",
              "  </tbody>\n",
              "</table>\n",
              "</div>"
            ],
            "text/plain": [
              "      sale  prev_1  prev_2  prev_3  ...  prev_7  prev_8  prev_9  prev_10\n",
              "3118   4.0     8.0     6.0     1.0  ...     2.0     4.0     1.0      2.0\n",
              "3119   6.0     4.0     8.0     6.0  ...    10.0     2.0     4.0      1.0\n",
              "3121   5.0     6.0     4.0     8.0  ...     5.0    10.0     2.0      4.0\n",
              "3122   1.0     5.0     6.0     4.0  ...     6.0     5.0    10.0      2.0\n",
              "3124   2.0     1.0     5.0     6.0  ...     1.0     6.0     5.0     10.0\n",
              "3125  10.0     2.0     1.0     5.0  ...     6.0     1.0     6.0      5.0\n",
              "3126   2.0    10.0     2.0     1.0  ...     8.0     6.0     1.0      6.0\n",
              "3130   4.0     2.0    10.0     2.0  ...     4.0     8.0     6.0      1.0\n",
              "3131   1.0     4.0     2.0    10.0  ...     6.0     4.0     8.0      6.0\n",
              "3132   3.0     1.0     4.0     2.0  ...     5.0     6.0     4.0      8.0\n",
              "\n",
              "[10 rows x 11 columns]"
            ]
          },
          "metadata": {},
          "execution_count": 275
        }
      ]
    },
    {
      "cell_type": "code",
      "metadata": {
        "colab": {
          "base_uri": "https://localhost:8080/",
          "height": 143
        },
        "id": "txa-DV7gPoO9",
        "outputId": "639c90d6-d942-40ea-8e63-6da2bfff22e6"
      },
      "source": [
        "df[df.date==\"2020-03-08\"]"
      ],
      "execution_count": null,
      "outputs": [
        {
          "output_type": "execute_result",
          "data": {
            "text/html": [
              "<div>\n",
              "<style scoped>\n",
              "    .dataframe tbody tr th:only-of-type {\n",
              "        vertical-align: middle;\n",
              "    }\n",
              "\n",
              "    .dataframe tbody tr th {\n",
              "        vertical-align: top;\n",
              "    }\n",
              "\n",
              "    .dataframe thead th {\n",
              "        text-align: right;\n",
              "    }\n",
              "</style>\n",
              "<table border=\"1\" class=\"dataframe\">\n",
              "  <thead>\n",
              "    <tr style=\"text-align: right;\">\n",
              "      <th></th>\n",
              "      <th>date</th>\n",
              "      <th>barcode</th>\n",
              "      <th>buy</th>\n",
              "      <th>sale</th>\n",
              "      <th>stock</th>\n",
              "      <th>price</th>\n",
              "    </tr>\n",
              "  </thead>\n",
              "  <tbody>\n",
              "    <tr>\n",
              "      <th>1232</th>\n",
              "      <td>2020-03-08</td>\n",
              "      <td>1.0</td>\n",
              "      <td>727.0</td>\n",
              "      <td>550.475</td>\n",
              "      <td>908.41</td>\n",
              "      <td>4.9</td>\n",
              "    </tr>\n",
              "    <tr>\n",
              "      <th>2777</th>\n",
              "      <td>2020-03-08</td>\n",
              "      <td>2.0</td>\n",
              "      <td>480.0</td>\n",
              "      <td>352.000</td>\n",
              "      <td>-2707.00</td>\n",
              "      <td>5.9</td>\n",
              "    </tr>\n",
              "    <tr>\n",
              "      <th>4274</th>\n",
              "      <td>2020-03-08</td>\n",
              "      <td>3.0</td>\n",
              "      <td>0.0</td>\n",
              "      <td>4.000</td>\n",
              "      <td>66.00</td>\n",
              "      <td>7.5</td>\n",
              "    </tr>\n",
              "  </tbody>\n",
              "</table>\n",
              "</div>"
            ],
            "text/plain": [
              "           date  barcode    buy     sale    stock  price\n",
              "1232 2020-03-08      1.0  727.0  550.475   908.41    4.9\n",
              "2777 2020-03-08      2.0  480.0  352.000 -2707.00    5.9\n",
              "4274 2020-03-08      3.0    0.0    4.000    66.00    7.5"
            ]
          },
          "metadata": {},
          "execution_count": 276
        }
      ]
    },
    {
      "cell_type": "code",
      "metadata": {
        "id": "gBIhuCG72ydj"
      },
      "source": [
        "#split data to train and test. The train set is about 3.5 years (from January 1 2017 to July 31 2020) and test sel will be 11.5 months (from August 1 2020 to July 17 2021)\n",
        "split_ind = np.where(df.date==\"2020-03-08\")\n",
        "train_set1, test_set1 = df_barcode1.loc[0:split_ind[0][0]].values, df_barcode1.loc[split_ind[0][0]:].values\n",
        "train_set2, test_set2 = df_barcode2.loc[0:split_ind[0][1]].values, df_barcode2.loc[split_ind[0][1]:].values\n",
        "train_set3, test_set3 = df_barcode3.loc[0:split_ind[0][2]].values, df_barcode3.loc[split_ind[0][2]:].values"
      ],
      "execution_count": null,
      "outputs": []
    },
    {
      "cell_type": "markdown",
      "metadata": {
        "id": "Wn0aYXmF8AME"
      },
      "source": [
        "Scaling for LSTM - an algorithm that is capable of solving time series tasks"
      ]
    },
    {
      "cell_type": "code",
      "metadata": {
        "id": "gJhZKrOr4oEv"
      },
      "source": [
        "#import MinMaxScaler and convert data for LSTM model\n",
        "from sklearn.preprocessing import MinMaxScaler\n",
        "#apply Min Max Scaler\n",
        "def scale_data(train_set, test_set):\n",
        "  scaler = MinMaxScaler(feature_range=(-1, 1))\n",
        "  scaler = scaler.fit(train_set)\n",
        "  # reshape training set\n",
        "  train_set = train_set.reshape(train_set.shape[0], train_set.shape[1])\n",
        "  train_set_scaled = scaler.transform(train_set)# reshape test set\n",
        "  test_set = test_set.reshape(test_set.shape[0], test_set.shape[1])\n",
        "  test_set_scaled = scaler.transform(test_set)\n",
        "\n",
        "  # split to x & y\n",
        "  X_train, y_train = train_set_scaled[:, 1:], train_set_scaled[:, 0:1]\n",
        "  X_train = X_train.reshape(X_train.shape[0], 1, X_train.shape[1])\n",
        "  X_test, y_test = test_set_scaled[:, 1:], test_set_scaled[:, 0:1]\n",
        "  X_test = X_test.reshape(X_test.shape[0], 1, X_test.shape[1])\n",
        "  return X_train, y_train, X_test, y_test, scaler\n",
        "\n",
        "X_train1, y_train1, X_test1, y_test1, scaler1 = scale_data(train_set1, test_set1)\n",
        "X_train2, y_train2, X_test2, y_test2, scaler2 = scale_data(train_set2, test_set2)\n",
        "X_train3, y_train3, X_test3, y_test3, scaler3 = scale_data(train_set3, test_set3)"
      ],
      "execution_count": null,
      "outputs": []
    },
    {
      "cell_type": "code",
      "metadata": {
        "colab": {
          "base_uri": "https://localhost:8080/"
        },
        "id": "elcmmD5T9hyB",
        "outputId": "041e1c11-868c-4b52-e8da-c62acd7ee8da"
      },
      "source": [
        "print (\"barcode 1: \", X_train1.shape[0], X_test1.shape[0], \"barcode 2: \", X_train2.shape[0], X_test2.shape[0], \"barcode 3: \", X_train3.shape[0], X_test3.shape[0])"
      ],
      "execution_count": null,
      "outputs": [
        {
          "output_type": "stream",
          "name": "stdout",
          "text": [
            "barcode 1:  1221 379 barcode 2:  1038 363 barcode 3:  773 469\n"
          ]
        }
      ]
    },
    {
      "cell_type": "markdown",
      "metadata": {
        "id": "w_SRPnM-cDA8"
      },
      "source": [
        "Building the model"
      ]
    },
    {
      "cell_type": "code",
      "metadata": {
        "id": "Tb4kH_vk4jGe"
      },
      "source": [
        "def lstm_model(X_train, y_train, X_test, y_test):\n",
        "  model = Sequential()\n",
        "  model.add(LSTM(4, batch_input_shape=(1, X_train.shape[1], X_train.shape[2])))\n",
        "  # model.add(Dense(8))\n",
        "  model.add(Dense(1))\n",
        "  model.compile(loss='mean_squared_error', optimizer='adam')\n",
        "  history = model.fit(X_train, y_train, validation_data=(X_test, y_test), epochs=20, batch_size=32, verbose=1, shuffle=False)\n",
        "  return model, history"
      ],
      "execution_count": null,
      "outputs": []
    },
    {
      "cell_type": "code",
      "metadata": {
        "id": "RS96cxRfECjv"
      },
      "source": [
        "def lstm_model3(X_train, y_train, X_test, y_test):\n",
        "  model = Sequential()\n",
        "  model.add(LSTM(16, batch_input_shape=(1, X_train.shape[1], X_train.shape[2])))\n",
        "  model.add(Dense(4))\n",
        "  model.add(Dense(1))\n",
        "  model.compile(loss='mean_squared_error', optimizer='adam')\n",
        "  history = model.fit(X_train, y_train, validation_data=(X_test, y_test), epochs=20, batch_size=32, verbose=1, shuffle=False)\n",
        "  return model, history"
      ],
      "execution_count": null,
      "outputs": []
    },
    {
      "cell_type": "code",
      "metadata": {
        "colab": {
          "base_uri": "https://localhost:8080/"
        },
        "id": "sJYXyCPH3Qxo",
        "outputId": "6835b77c-b745-43da-f661-7a0d72157200"
      },
      "source": [
        "lstm1, history1 = lstm_model(X_train1, y_train1, X_test1, y_test1)\n",
        "lstm2, history2 = lstm_model(X_train2, y_train2, X_test2, y_test2)\n",
        "lstm3, history3 = lstm_model3(X_train3, y_train3, X_test3, y_test3)"
      ],
      "execution_count": null,
      "outputs": [
        {
          "output_type": "stream",
          "name": "stdout",
          "text": [
            "Epoch 1/20\n",
            "39/39 [==============================] - 2s 16ms/step - loss: 0.2385 - val_loss: 0.3317\n",
            "Epoch 2/20\n",
            "39/39 [==============================] - 0s 3ms/step - loss: 0.2076 - val_loss: 0.2925\n",
            "Epoch 3/20\n",
            "39/39 [==============================] - 0s 3ms/step - loss: 0.1908 - val_loss: 0.2696\n",
            "Epoch 4/20\n",
            "39/39 [==============================] - 0s 3ms/step - loss: 0.1824 - val_loss: 0.2564\n",
            "Epoch 5/20\n",
            "39/39 [==============================] - 0s 3ms/step - loss: 0.1783 - val_loss: 0.2489\n",
            "Epoch 6/20\n",
            "39/39 [==============================] - 0s 3ms/step - loss: 0.1762 - val_loss: 0.2445\n",
            "Epoch 7/20\n",
            "39/39 [==============================] - 0s 3ms/step - loss: 0.1750 - val_loss: 0.2418\n",
            "Epoch 8/20\n",
            "39/39 [==============================] - 0s 3ms/step - loss: 0.1740 - val_loss: 0.2398\n",
            "Epoch 9/20\n",
            "39/39 [==============================] - 0s 3ms/step - loss: 0.1733 - val_loss: 0.2384\n",
            "Epoch 10/20\n",
            "39/39 [==============================] - 0s 3ms/step - loss: 0.1726 - val_loss: 0.2373\n",
            "Epoch 11/20\n",
            "39/39 [==============================] - 0s 3ms/step - loss: 0.1721 - val_loss: 0.2364\n",
            "Epoch 12/20\n",
            "39/39 [==============================] - 0s 3ms/step - loss: 0.1716 - val_loss: 0.2357\n",
            "Epoch 13/20\n",
            "39/39 [==============================] - 0s 3ms/step - loss: 0.1712 - val_loss: 0.2350\n",
            "Epoch 14/20\n",
            "39/39 [==============================] - 0s 3ms/step - loss: 0.1708 - val_loss: 0.2344\n",
            "Epoch 15/20\n",
            "39/39 [==============================] - 0s 3ms/step - loss: 0.1704 - val_loss: 0.2339\n",
            "Epoch 16/20\n",
            "39/39 [==============================] - 0s 3ms/step - loss: 0.1702 - val_loss: 0.2334\n",
            "Epoch 17/20\n",
            "39/39 [==============================] - 0s 3ms/step - loss: 0.1699 - val_loss: 0.2330\n",
            "Epoch 18/20\n",
            "39/39 [==============================] - 0s 3ms/step - loss: 0.1697 - val_loss: 0.2327\n",
            "Epoch 19/20\n",
            "39/39 [==============================] - 0s 3ms/step - loss: 0.1695 - val_loss: 0.2323\n",
            "Epoch 20/20\n",
            "39/39 [==============================] - 0s 3ms/step - loss: 0.1693 - val_loss: 0.2320\n",
            "Epoch 1/20\n",
            "33/33 [==============================] - 2s 16ms/step - loss: 0.1944 - val_loss: 0.1812\n",
            "Epoch 2/20\n",
            "33/33 [==============================] - 0s 4ms/step - loss: 0.1765 - val_loss: 0.1710\n",
            "Epoch 3/20\n",
            "33/33 [==============================] - 0s 3ms/step - loss: 0.1652 - val_loss: 0.1648\n",
            "Epoch 4/20\n",
            "33/33 [==============================] - 0s 3ms/step - loss: 0.1579 - val_loss: 0.1610\n",
            "Epoch 5/20\n",
            "33/33 [==============================] - 0s 3ms/step - loss: 0.1531 - val_loss: 0.1588\n",
            "Epoch 6/20\n",
            "33/33 [==============================] - 0s 3ms/step - loss: 0.1500 - val_loss: 0.1573\n",
            "Epoch 7/20\n",
            "33/33 [==============================] - 0s 3ms/step - loss: 0.1478 - val_loss: 0.1563\n",
            "Epoch 8/20\n",
            "33/33 [==============================] - 0s 3ms/step - loss: 0.1463 - val_loss: 0.1555\n",
            "Epoch 9/20\n",
            "33/33 [==============================] - 0s 3ms/step - loss: 0.1451 - val_loss: 0.1549\n",
            "Epoch 10/20\n",
            "33/33 [==============================] - 0s 3ms/step - loss: 0.1442 - val_loss: 0.1544\n",
            "Epoch 11/20\n",
            "33/33 [==============================] - 0s 3ms/step - loss: 0.1434 - val_loss: 0.1540\n",
            "Epoch 12/20\n",
            "33/33 [==============================] - 0s 3ms/step - loss: 0.1427 - val_loss: 0.1536\n",
            "Epoch 13/20\n",
            "33/33 [==============================] - 0s 3ms/step - loss: 0.1422 - val_loss: 0.1533\n",
            "Epoch 14/20\n",
            "33/33 [==============================] - 0s 3ms/step - loss: 0.1417 - val_loss: 0.1531\n",
            "Epoch 15/20\n",
            "33/33 [==============================] - 0s 3ms/step - loss: 0.1413 - val_loss: 0.1529\n",
            "Epoch 16/20\n",
            "33/33 [==============================] - 0s 3ms/step - loss: 0.1410 - val_loss: 0.1528\n",
            "Epoch 17/20\n",
            "33/33 [==============================] - 0s 3ms/step - loss: 0.1407 - val_loss: 0.1527\n",
            "Epoch 18/20\n",
            "33/33 [==============================] - 0s 3ms/step - loss: 0.1404 - val_loss: 0.1526\n",
            "Epoch 19/20\n",
            "33/33 [==============================] - 0s 3ms/step - loss: 0.1402 - val_loss: 0.1525\n",
            "Epoch 20/20\n",
            "33/33 [==============================] - 0s 3ms/step - loss: 0.1400 - val_loss: 0.1525\n",
            "Epoch 1/20\n",
            "25/25 [==============================] - 2s 25ms/step - loss: 0.4400 - val_loss: 0.3019\n",
            "Epoch 2/20\n",
            "25/25 [==============================] - 0s 3ms/step - loss: 0.2395 - val_loss: 0.2939\n",
            "Epoch 3/20\n",
            "25/25 [==============================] - 0s 3ms/step - loss: 0.2021 - val_loss: 0.3002\n",
            "Epoch 4/20\n",
            "25/25 [==============================] - 0s 3ms/step - loss: 0.1975 - val_loss: 0.2970\n",
            "Epoch 5/20\n",
            "25/25 [==============================] - 0s 3ms/step - loss: 0.1955 - val_loss: 0.2947\n",
            "Epoch 6/20\n",
            "25/25 [==============================] - 0s 4ms/step - loss: 0.1939 - val_loss: 0.2936\n",
            "Epoch 7/20\n",
            "25/25 [==============================] - 0s 6ms/step - loss: 0.1925 - val_loss: 0.2927\n",
            "Epoch 8/20\n",
            "25/25 [==============================] - 0s 4ms/step - loss: 0.1912 - val_loss: 0.2920\n",
            "Epoch 9/20\n",
            "25/25 [==============================] - 0s 4ms/step - loss: 0.1902 - val_loss: 0.2914\n",
            "Epoch 10/20\n",
            "25/25 [==============================] - 0s 3ms/step - loss: 0.1893 - val_loss: 0.2909\n",
            "Epoch 11/20\n",
            "25/25 [==============================] - 0s 4ms/step - loss: 0.1885 - val_loss: 0.2906\n",
            "Epoch 12/20\n",
            "25/25 [==============================] - 0s 4ms/step - loss: 0.1878 - val_loss: 0.2903\n",
            "Epoch 13/20\n",
            "25/25 [==============================] - 0s 3ms/step - loss: 0.1871 - val_loss: 0.2901\n",
            "Epoch 14/20\n",
            "25/25 [==============================] - 0s 4ms/step - loss: 0.1865 - val_loss: 0.2900\n",
            "Epoch 15/20\n",
            "25/25 [==============================] - 0s 4ms/step - loss: 0.1860 - val_loss: 0.2899\n",
            "Epoch 16/20\n",
            "25/25 [==============================] - 0s 3ms/step - loss: 0.1854 - val_loss: 0.2899\n",
            "Epoch 17/20\n",
            "25/25 [==============================] - 0s 4ms/step - loss: 0.1850 - val_loss: 0.2899\n",
            "Epoch 18/20\n",
            "25/25 [==============================] - 0s 3ms/step - loss: 0.1845 - val_loss: 0.2900\n",
            "Epoch 19/20\n",
            "25/25 [==============================] - 0s 3ms/step - loss: 0.1840 - val_loss: 0.2901\n",
            "Epoch 20/20\n",
            "25/25 [==============================] - 0s 4ms/step - loss: 0.1836 - val_loss: 0.2902\n"
          ]
        }
      ]
    },
    {
      "cell_type": "markdown",
      "metadata": {
        "id": "YHd8T2K0cazl"
      },
      "source": [
        "Loss summary and representations"
      ]
    },
    {
      "cell_type": "code",
      "metadata": {
        "colab": {
          "base_uri": "https://localhost:8080/",
          "height": 313
        },
        "id": "X2LiMwhMB2Xe",
        "outputId": "cd738407-dbd9-4a74-f3c9-94f5dc3d1362"
      },
      "source": [
        "# summarize history for loss\n",
        "plt.plot(history1.history['loss'])\n",
        "plt.plot(history1.history['val_loss'])\n",
        "\n",
        "plt.title('model loss')\n",
        "plt.ylabel('loss')\n",
        "plt.xlabel('epoch')\n",
        "\n",
        "plt.legend(['X_train1', 'X_test1'], loc='upper left')\n",
        "plt.legend(['y_train1', 'y_test1'], loc='upper left')"
      ],
      "execution_count": null,
      "outputs": [
        {
          "output_type": "execute_result",
          "data": {
            "text/plain": [
              "<matplotlib.legend.Legend at 0x7f35c47c19d0>"
            ]
          },
          "metadata": {},
          "execution_count": 283
        },
        {
          "output_type": "display_data",
          "data": {
            "image/png": "[encoded data removed]",
            "text/plain": [
              "<Figure size 432x288 with 1 Axes>"
            ]
          },
          "metadata": {
            "needs_background": "light"
          }
        }
      ]
    },
    {
      "cell_type": "code",
      "metadata": {
        "colab": {
          "base_uri": "https://localhost:8080/",
          "height": 313
        },
        "id": "KGTyd7fCB9l-",
        "outputId": "0ce87ae4-0688-4d4e-c647-c584401bcfb3"
      },
      "source": [
        "# summarize history for loss\n",
        "plt.plot(history2.history['loss'])\n",
        "plt.plot(history2.history['val_loss'])\n",
        "\n",
        "plt.title('model loss')\n",
        "plt.ylabel('loss')\n",
        "plt.xlabel('epoch')\n",
        "\n",
        "plt.legend(['X_train2', 'X_test2'], loc='upper left')\n",
        "plt.legend(['y_train2', 'y_test2'], loc='upper left')\n"
      ],
      "execution_count": null,
      "outputs": [
        {
          "output_type": "execute_result",
          "data": {
            "text/plain": [
              "<matplotlib.legend.Legend at 0x7f35c8adff10>"
            ]
          },
          "metadata": {},
          "execution_count": 284
        },
        {
          "output_type": "display_data",
          "data": {
            "image/png": "[encoded data removed]",
            "text/plain": [
              "<Figure size 432x288 with 1 Axes>"
            ]
          },
          "metadata": {
            "needs_background": "light"
          }
        }
      ]
    },
    {
      "cell_type": "code",
      "metadata": {
        "colab": {
          "base_uri": "https://localhost:8080/",
          "height": 313
        },
        "id": "UjlO8legB_5a",
        "outputId": "ffe0dbf5-1be4-43b0-96f3-ddd4919ea889"
      },
      "source": [
        "# summarize history for loss\n",
        "plt.plot(history3.history['loss'])\n",
        "plt.plot(history3.history['val_loss'])\n",
        "\n",
        "plt.title('model loss')\n",
        "plt.ylabel('loss')\n",
        "plt.xlabel('epoch')\n",
        "\n",
        "plt.legend(['X_train3', 'X_test3'], loc='upper left')\n",
        "plt.legend(['y_train3', 'y_test3'], loc='upper left')"
      ],
      "execution_count": null,
      "outputs": [
        {
          "output_type": "execute_result",
          "data": {
            "text/plain": [
              "<matplotlib.legend.Legend at 0x7f35c8a58750>"
            ]
          },
          "metadata": {},
          "execution_count": 285
        },
        {
          "output_type": "display_data",
          "data": {
            "image/png": "[encoded data removed]",
            "text/plain": [
              "<Figure size 432x288 with 1 Axes>"
            ]
          },
          "metadata": {
            "needs_background": "light"
          }
        }
      ]
    },
    {
      "cell_type": "code",
      "metadata": {
        "id": "ncGpaHwv3GpG"
      },
      "source": [
        "y_pred1 = lstm1.predict(X_test1, batch_size=1)\n",
        "y_pred2 = lstm2.predict(X_test2, batch_size=1)\n",
        "y_pred3 = lstm3.predict(X_test3, batch_size=1)"
      ],
      "execution_count": null,
      "outputs": []
    },
    {
      "cell_type": "code",
      "metadata": {
        "id": "r3_2XWnDTVJe"
      },
      "source": [
        "#reshape y_pred\n",
        "y_pred1 = y_pred1.reshape(y_pred1.shape[0], 1, y_pred1.shape[1])#rebuild test set for inverse transform\n",
        "pred_test_set1 = []\n",
        "for index in range(0,len(y_pred1)):\n",
        "    pred_test_set1.append(np.concatenate([y_pred1[index],X_test1[index]],axis=1))#reshape pred_test_set\n",
        "pred_test_set1 = np.array(pred_test_set1)\n",
        "pred_test_set1 = pred_test_set1.reshape(pred_test_set1.shape[0], pred_test_set1.shape[2])\n",
        "\n",
        "#inverse transform\n",
        "pred_test1 = scaler1.inverse_transform(pred_test_set1)\n"
      ],
      "execution_count": null,
      "outputs": []
    },
    {
      "cell_type": "code",
      "metadata": {
        "id": "tWUnUNWcVyqA"
      },
      "source": [
        "#reshape y_pred\n",
        "y_pred2 = y_pred2.reshape(y_pred2.shape[0], 1, y_pred2.shape[1])#rebuild test set for inverse transform\n",
        "pred_test_set2 = []\n",
        "for index in range(0,len(y_pred2)):\n",
        "    pred_test_set2.append(np.concatenate([y_pred2[index],X_test2[index]],axis=1))#reshape pred_test_set\n",
        "pred_test_set2 = np.array(pred_test_set2)\n",
        "pred_test_set2 = pred_test_set2.reshape(pred_test_set2.shape[0], pred_test_set2.shape[2])\n",
        "\n",
        "#inverse transform\n",
        "pred_test2 = scaler2.inverse_transform(pred_test_set2)"
      ],
      "execution_count": null,
      "outputs": []
    },
    {
      "cell_type": "code",
      "metadata": {
        "id": "HKQ1RqT0VzaK"
      },
      "source": [
        "#reshape y_pred\n",
        "y_pred3 = y_pred3.reshape(y_pred3.shape[0], 1, y_pred3.shape[1])#rebuild test set for inverse transform\n",
        "pred_test_set3 = []\n",
        "for index in range(0,len(y_pred3)):\n",
        "    pred_test_set3.append(np.concatenate([y_pred3[index],X_test3[index]],axis=1))#reshape pred_test_set\n",
        "pred_test_set3 = np.array(pred_test_set3)\n",
        "pred_test_set3 = pred_test_set3.reshape(pred_test_set3.shape[0], pred_test_set3.shape[2])\n",
        "\n",
        "#inverse transform\n",
        "pred_test3 = scaler3.inverse_transform(pred_test_set3)"
      ],
      "execution_count": null,
      "outputs": []
    },
    {
      "cell_type": "markdown",
      "metadata": {
        "id": "9988E7iXcqit"
      },
      "source": [
        "How good is our model?"
      ]
    },
    {
      "cell_type": "code",
      "metadata": {
        "colab": {
          "base_uri": "https://localhost:8080/"
        },
        "id": "NMdetNmKSMHm",
        "outputId": "5005454a-dc8e-49d0-8bed-f275b16a0b3c"
      },
      "source": [
        "from scipy.stats import pearsonr\n",
        "corr1, pval1 = pearsonr(pred_test1[:,0], test_set1[:,0])\n",
        "corr2, pval2 = pearsonr(pred_test2[:,0], test_set2[:,0])\n",
        "corr3, pval3 = pearsonr(pred_test3[:,0], test_set3[:,0])\n",
        "corr=[corr1, corr2, corr3]\n",
        "pval= [pval1, pval2, pval3]\n",
        "for p in range(3):\n",
        "  if pval[p]<0.05:\n",
        "    print (f\"Pearson correlation for model {p+1} is {corr[p]}\")"
      ],
      "execution_count": null,
      "outputs": [
        {
          "output_type": "stream",
          "name": "stdout",
          "text": [
            "Pearson correlation for model 1 is 0.31187049436700304\n",
            "Pearson correlation for model 2 is 0.3823171598810107\n",
            "Pearson correlation for model 3 is 0.20166991957971986\n"
          ]
        }
      ]
    },
    {
      "cell_type": "code",
      "metadata": {
        "colab": {
          "base_uri": "https://localhost:8080/"
        },
        "id": "sAqacIO_XQS3",
        "outputId": "135f45f7-300a-4776-c981-c4bb83bf2a4d"
      },
      "source": [
        "from scipy.stats import spearmanr\n",
        "corr1, pval1 = spearmanr(pred_test1[:,0], test_set1[:,0])\n",
        "corr2, pval2 = spearmanr(pred_test2[:,0], test_set2[:,0])\n",
        "corr3, pval3 = spearmanr(pred_test3[:,0], test_set3[:,0])\n",
        "corr=[corr1, corr2, corr3]\n",
        "pval= [pval1, pval2, pval3]\n",
        "for p in range(3):\n",
        "  if pval[p]<0.05:\n",
        "    print (f\"Spearmann correlation for model {p+1} is {corr[p]}\")"
      ],
      "execution_count": null,
      "outputs": [
        {
          "output_type": "stream",
          "name": "stdout",
          "text": [
            "Pearson correlation for model 1 is 0.3393278722137236\n",
            "Pearson correlation for model 2 is 0.41770402165559883\n",
            "Pearson correlation for model 3 is 0.17781969711061577\n"
          ]
        }
      ]
    }
  ]
}